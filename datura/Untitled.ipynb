{
 "cells": [
  {
   "cell_type": "code",
   "execution_count": 1,
   "id": "a3b02ca0-0030-4222-afe4-88089b5cdbba",
   "metadata": {},
   "outputs": [],
   "source": [
    "from IPython.display import SVG, display"
   ]
  },
  {
   "cell_type": "code",
   "execution_count": 2,
   "id": "e76138f2-f59d-4711-9697-30d76d0ce94c",
   "metadata": {},
   "outputs": [
    {
     "data": {
      "text/plain": [
       "'<?xml version=\"1.0\" standalone=\"no\"?>\\n    <svg width=\"7.68in\" height=\"3.84in\" viewBox=\"0 0 400 200\" \\n    xmlns=\"http://www.w3.org/2000/svg\" version=\"1.1\">\\n\\n    \\n    <polyline fill=\"none\" stroke=\"black\" stroke-width=\"1\" points=\"40.0,75.33333333333334 200.0,26.0 360.0,174.0 \" />\\n \\n    <g font-family=\"sans-serif\" font-size=\"10\" > <text x=\"362.0\" y=\"174.0\" dy=\"0\" fill=\"black\" dominant-baseline=\"middle\" > android </text>\\n</g>\\n    <polyline fill=\"none\" stroke=\"black\" stroke-width=\"1\" points=\"40.0,176.0 40.0,178.0 200.0,178.0 200.0,176.0 200.0,178.0 360.0,178.0 360.0,176.0\" />\\n    <g font-family=\"sans-serif\" font-size=\"10\" > <text x=\"40.0\" y=\"180.0\" fill=\"black\" text-anchor=\"middle\" dominant-baseline=\"hanging\" > 0 </text>\\n <text x=\"200.0\" y=\"180.0\" fill=\"black\" text-anchor=\"middle\" dominant-baseline=\"hanging\" > 1 </text>\\n <text x=\"360.0\" y=\"180.0\" fill=\"black\" text-anchor=\"middle\" dominant-baseline=\"hanging\" > 2 </text> </g>\\n    <text x=\"200.0\" y=\"198\" fill=\"black\" text-anchor=\"middle\" font-family=\"sans-serif\" font-size=\"10\"> time </text>\\n    <polyline fill=\"none\" stroke=\"black\" stroke-width=\"1\" points=\"38.0,174.0 36.0,174.0 36.0,75.33333333333334 38.0,75.33333333333334\" />\\n    <g font-family=\"sans-serif\" font-size=\"10\" > <text x=\"34.0\" y=\"174.0\" fill=\"black\" text-anchor=\"end\" dominant-baseline=\"middle\" > -1 </text>\\n <text x=\"34.0\" y=\"75.33333333333334\" fill=\"black\" text-anchor=\"end\" dominant-baseline=\"middle\" > 1 </text> </g>\\n    <text fill=\"black\" text-anchor=\"middle\" dominant-baseline=\"hanging\" transform=\"translate(2,100.0) rotate(270)\" font-family=\"sans-serif\" font-size=\"10\"> amount </text>\\n    \\n\\n    </svg>\\n    '"
      ]
     },
     "execution_count": 2,
     "metadata": {},
     "output_type": "execute_result"
    }
   ],
   "source": [
    "%run datura.py\n",
    "plot([0, 1, 2], [1,2,-1] , x_ticks=[0, 1, 2], y_ticks=[-1, 1], x_label='time', y_label='amount', labels='android')"
   ]
  },
  {
   "cell_type": "code",
   "execution_count": 3,
   "id": "2bb13650-7e89-4b81-84db-11a8ec2ff5f7",
   "metadata": {},
   "outputs": [
    {
     "data": {
      "image/svg+xml": "<svg xmlns=\"http://www.w3.org/2000/svg\" width=\"7.68in\" height=\"3.84in\" viewBox=\"0 0 400 200\" version=\"1.1\">\n\n    \n    <polyline fill=\"none\" stroke=\"black\" stroke-width=\"1\" points=\"40.0,75.33333333333334 200.0,26.0 360.0,174.0 \"/>\n \n    <g font-family=\"sans-serif\" font-size=\"10\"> <text x=\"362.0\" y=\"174.0\" dy=\"0\" fill=\"black\" dominant-baseline=\"middle\"> android </text>\n</g>\n    <polyline fill=\"none\" stroke=\"black\" stroke-width=\"1\" points=\"40.0,176.0 40.0,178.0 200.0,178.0 200.0,176.0 200.0,178.0 360.0,178.0 360.0,176.0\"/>\n    <g font-family=\"sans-serif\" font-size=\"10\"> <text x=\"40.0\" y=\"180.0\" fill=\"black\" text-anchor=\"middle\" dominant-baseline=\"hanging\"> 0 </text>\n <text x=\"200.0\" y=\"180.0\" fill=\"black\" text-anchor=\"middle\" dominant-baseline=\"hanging\"> 1 </text>\n <text x=\"360.0\" y=\"180.0\" fill=\"black\" text-anchor=\"middle\" dominant-baseline=\"hanging\"> 2 </text> </g>\n    <text x=\"200.0\" y=\"198\" fill=\"black\" text-anchor=\"middle\" font-family=\"sans-serif\" font-size=\"10\"> time </text>\n    <polyline fill=\"none\" stroke=\"black\" stroke-width=\"1\" points=\"38.0,174.0 36.0,174.0 36.0,75.33333333333334 38.0,75.33333333333334\"/>\n    <g font-family=\"sans-serif\" font-size=\"10\"> <text x=\"34.0\" y=\"174.0\" fill=\"black\" text-anchor=\"end\" dominant-baseline=\"middle\"> -1 </text>\n <text x=\"34.0\" y=\"75.33333333333334\" fill=\"black\" text-anchor=\"end\" dominant-baseline=\"middle\"> 1 </text> </g>\n    <text fill=\"black\" text-anchor=\"middle\" dominant-baseline=\"hanging\" transform=\"translate(2,100.0) rotate(270)\" font-family=\"sans-serif\" font-size=\"10\"> amount </text>\n    \n\n    </svg>",
      "text/plain": [
       "<IPython.core.display.SVG object>"
      ]
     },
     "metadata": {},
     "output_type": "display_data"
    }
   ],
   "source": [
    "display(SVG('./plot.svg'))"
   ]
  },
  {
   "cell_type": "code",
   "execution_count": 6,
   "id": "b1e7ecff-b2bf-4cc4-8d64-035b81c6c09e",
   "metadata": {},
   "outputs": [
    {
     "name": "stdout",
     "output_type": "stream",
     "text": [
      "\u001b[0;31mType:\u001b[0m        module\n",
      "\u001b[0;31mString form:\u001b[0m <module 'IPython.display' from '/Users/pweir/.pyenv/versions/3.9.6/lib/python3.9/site-packages/IPython/display.py'>\n",
      "\u001b[0;31mFile:\u001b[0m        ~/.pyenv/versions/3.9.6/lib/python3.9/site-packages/IPython/display.py\n",
      "\u001b[0;31mSource:\u001b[0m     \n",
      "\u001b[0;34m\"\"\"Public API for display tools in IPython.\u001b[0m\n",
      "\u001b[0;34m\"\"\"\u001b[0m\u001b[0;34m\u001b[0m\n",
      "\u001b[0;34m\u001b[0m\u001b[0;34m\u001b[0m\n",
      "\u001b[0;34m\u001b[0m\u001b[0;31m#-----------------------------------------------------------------------------\u001b[0m\u001b[0;34m\u001b[0m\n",
      "\u001b[0;34m\u001b[0m\u001b[0;31m#       Copyright (C) 2012 The IPython Development Team\u001b[0m\u001b[0;34m\u001b[0m\n",
      "\u001b[0;34m\u001b[0m\u001b[0;31m#\u001b[0m\u001b[0;34m\u001b[0m\n",
      "\u001b[0;34m\u001b[0m\u001b[0;31m#  Distributed under the terms of the BSD License.  The full license is in\u001b[0m\u001b[0;34m\u001b[0m\n",
      "\u001b[0;34m\u001b[0m\u001b[0;31m#  the file COPYING, distributed as part of this software.\u001b[0m\u001b[0;34m\u001b[0m\n",
      "\u001b[0;34m\u001b[0m\u001b[0;31m#-----------------------------------------------------------------------------\u001b[0m\u001b[0;34m\u001b[0m\n",
      "\u001b[0;34m\u001b[0m\u001b[0;34m\u001b[0m\n",
      "\u001b[0;34m\u001b[0m\u001b[0;31m#-----------------------------------------------------------------------------\u001b[0m\u001b[0;34m\u001b[0m\n",
      "\u001b[0;34m\u001b[0m\u001b[0;31m# Imports\u001b[0m\u001b[0;34m\u001b[0m\n",
      "\u001b[0;34m\u001b[0m\u001b[0;31m#-----------------------------------------------------------------------------\u001b[0m\u001b[0;34m\u001b[0m\n",
      "\u001b[0;34m\u001b[0m\u001b[0;34m\u001b[0m\n",
      "\u001b[0;34m\u001b[0m\u001b[0;32mfrom\u001b[0m \u001b[0mIPython\u001b[0m\u001b[0;34m.\u001b[0m\u001b[0mcore\u001b[0m\u001b[0;34m.\u001b[0m\u001b[0mdisplay\u001b[0m \u001b[0;32mimport\u001b[0m \u001b[0;34m*\u001b[0m\u001b[0;34m\u001b[0m\n",
      "\u001b[0;34m\u001b[0m\u001b[0;32mfrom\u001b[0m \u001b[0mIPython\u001b[0m\u001b[0;34m.\u001b[0m\u001b[0mlib\u001b[0m\u001b[0;34m.\u001b[0m\u001b[0mdisplay\u001b[0m \u001b[0;32mimport\u001b[0m \u001b[0;34m*\u001b[0m\u001b[0;34m\u001b[0m\u001b[0;34m\u001b[0m\u001b[0m\n"
     ]
    }
   ],
   "source": [
    "import IPython.display\n",
    "IPython.display??"
   ]
  },
  {
   "cell_type": "code",
   "execution_count": 17,
   "id": "9fc31c3f-0b1f-4a95-94f1-30cf77762927",
   "metadata": {},
   "outputs": [
    {
     "data": {
      "text/html": [
       "<img src onerror=\"var cell = this.closest('.jp-CodeCell');var editor = cell.querySelector('.jp-Editor');editor.style.background='white';this.parentNode.removeChild(this)\" style=\"display:none\">"
      ],
      "text/plain": [
       "<IPython.core.display.HTML object>"
      ]
     },
     "metadata": {},
     "output_type": "display_data"
    },
    {
     "name": "stdout",
     "output_type": "stream",
     "text": [
      "hi\n"
     ]
    }
   ],
   "source": [
    "from IPython.core.magic import register_cell_magic\n",
    "\n",
    "from IPython.display import HTML, display\n",
    "\n",
    "def set_background(color):    \n",
    "    script = (\n",
    "        \"var cell = this.closest('.jp-CodeCell');\"\n",
    "        \"var editor = cell.querySelector('.jp-Editor');\"\n",
    "        \"editor.style.background='{}';\"\n",
    "        \"this.parentNode.removeChild(this)\"\n",
    "    ).format(color)\n",
    "    \n",
    "    display(HTML('<img src onerror=\"{}\" style=\"display:none\">'.format(script)))\n",
    "\n",
    "set_background('white')\n",
    "print('hi')"
   ]
  },
  {
   "cell_type": "code",
   "execution_count": 16,
   "id": "280988da-cae0-40de-96f1-6eafcb935b9e",
   "metadata": {},
   "outputs": [
    {
     "data": {
      "text/html": [
       "<img src onerror=\"var cell = this.closest('.jp-CodeCell');var editor = cell.querySelector('.jp-Editor');editor.style.background='white';this.parentNode.removeChild(this)\" style=\"display:none\">"
      ],
      "text/plain": [
       "<IPython.core.display.HTML object>"
      ]
     },
     "metadata": {},
     "output_type": "display_data"
    },
    {
     "name": "stdout",
     "output_type": "stream",
     "text": [
      "hi\n"
     ]
    }
   ],
   "source": []
  },
  {
   "cell_type": "code",
   "execution_count": null,
   "id": "fa61623b",
   "metadata": {},
   "outputs": [],
   "source": []
  }
 ],
 "metadata": {
  "kernelspec": {
   "display_name": "Python 3.9.6 64-bit ('3.9.6')",
   "language": "python",
   "name": "python3"
  },
  "language_info": {
   "codemirror_mode": {
    "name": "ipython",
    "version": 3
   },
   "file_extension": ".py",
   "mimetype": "text/x-python",
   "name": "python",
   "nbconvert_exporter": "python",
   "pygments_lexer": "ipython3",
   "version": "3.9.6"
  },
  "vscode": {
   "interpreter": {
    "hash": "2ba89f220c29c3a79d05bc567109e88a34f5c0fa49e3da28e7cd14bcbcfa5c93"
   }
  }
 },
 "nbformat": 4,
 "nbformat_minor": 5
}
